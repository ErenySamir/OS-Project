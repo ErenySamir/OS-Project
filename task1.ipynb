{
 "cells": [
  {
   "cell_type": "code",
   "execution_count": 3,
   "id": "3ac1b317",
   "metadata": {},
   "outputs": [
    {
     "name": "stdout",
     "output_type": "stream",
     "text": [
      "Requirement already satisfied: pyopenms in c:\\users\\microsoft\\anaconda3\\lib\\site-packages (2.7.0)\n",
      "Requirement already satisfied: numpy in c:\\users\\microsoft\\anaconda3\\lib\\site-packages (from pyopenms) (1.21.5)\n"
     ]
    }
   ],
   "source": [
    "\n",
    "! pip install pyopenms\n",
    "from pyopenms import *"
   ]
  },
  {
   "cell_type": "markdown",
   "id": "32eaa5f2",
   "metadata": {},
   "source": []
  },
  {
   "cell_type": "code",
   "execution_count": 8,
   "id": "07aed5a0",
   "metadata": {},
   "outputs": [
    {
     "name": "stdout",
     "output_type": "stream",
     "text": [
      "sum 0\n",
      "Mass of sequence 389.262723986242\n",
      "Mass of sequence 194.631361993121\n"
     ]
    }
   ],
   "source": [
    "seq = AASequence.fromString(\"VAKA\")\n",
    "Sum = 0\n",
    "for i in seq:\n",
    "    AASum += i.getMonoWeight()\n",
    "    \n",
    "print(\"sum\",Sum)\n",
    "Mass = seq.getMonoWeight(Residue.ResidueType.Full, 2)\n",
    "Mass_MZ = seq.getMonoWeight(Residue.ResidueType.Full, 2)/2.0\n",
    "print(\"Mass of sequence\",Mass)\n",
    "print(\"Mass of sequence\",Mass_MZ)"
   ]
  },
  {
   "cell_type": "code",
   "execution_count": null,
   "id": "a7ae08a2",
   "metadata": {},
   "outputs": [],
   "source": []
  },
  {
   "cell_type": "code",
   "execution_count": 9,
   "id": "a5ebf7e3",
   "metadata": {},
   "outputs": [
    {
     "name": "stdout",
     "output_type": "stream",
     "text": [
      "sum 441.2798662441\n",
      "Mass of sequence 389.262723986242\n",
      "Mass of sequence 194.631361993121\n"
     ]
    }
   ],
   "source": [
    "seq = AASequence.fromString(\"VAKA\")\n",
    "AASum = 0\n",
    "for i in seq:\n",
    "    AASum += i.getMonoWeight()\n",
    "    \n",
    "print(\"sum\",AASum)\n",
    "Mass = seq.getMonoWeight(Residue.ResidueType.Full, 2)\n",
    "Mass_MZ = seq.getMonoWeight(Residue.ResidueType.Full, 2)/2.0\n",
    "print(\"Mass of sequence\",Mass)\n",
    "print(\"Mass of sequence\",Mass_MZ)\n",
    "#mass of (\"VAKA\") is not equal to mass(\"V\")+mass(\"A\")+mass(\"K\")+mass(\"A\")"
   ]
  },
  {
   "cell_type": "code",
   "execution_count": null,
   "id": "09f4e88f",
   "metadata": {},
   "outputs": [],
   "source": []
  }
 ],
 "metadata": {
  "kernelspec": {
   "display_name": "Python 3 (ipykernel)",
   "language": "python",
   "name": "python3"
  },
  "language_info": {
   "codemirror_mode": {
    "name": "ipython",
    "version": 3
   },
   "file_extension": ".py",
   "mimetype": "text/x-python",
   "name": "python",
   "nbconvert_exporter": "python",
   "pygments_lexer": "ipython3",
   "version": "3.9.13"
  }
 },
 "nbformat": 4,
 "nbformat_minor": 5
}
